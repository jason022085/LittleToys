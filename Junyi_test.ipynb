{
 "cells": [
  {
   "cell_type": "markdown",
   "metadata": {},
   "source": [
    "# 1(A)"
   ]
  },
  {
   "cell_type": "code",
   "execution_count": 1,
   "metadata": {},
   "outputs": [],
   "source": [
    "def reverse1(in_str):\n",
    "    return in_str[::-1]"
   ]
  },
  {
   "cell_type": "code",
   "execution_count": 2,
   "metadata": {},
   "outputs": [
    {
     "data": {
      "text/plain": [
       "'ymedacaiynuj'"
      ]
     },
     "execution_count": 2,
     "metadata": {},
     "output_type": "execute_result"
    }
   ],
   "source": [
    "reverse1(\"junyiacademy\")"
   ]
  },
  {
   "cell_type": "markdown",
   "metadata": {},
   "source": [
    "# 1(B)"
   ]
  },
  {
   "cell_type": "code",
   "execution_count": 3,
   "metadata": {},
   "outputs": [],
   "source": [
    "def reverse2(in_str):\n",
    "    temp_str = in_str.split()\n",
    "    out_list=[]\n",
    "    for word in temp_str:\n",
    "        out_list.append(reverse1(word))\n",
    "    out_str = ' ' \n",
    "    return out_str.join(out_list)"
   ]
  },
  {
   "cell_type": "code",
   "execution_count": 4,
   "metadata": {},
   "outputs": [
    {
     "data": {
      "text/plain": [
       "'deppilf ssalc moor si tnatropmi'"
      ]
     },
     "execution_count": 4,
     "metadata": {},
     "output_type": "execute_result"
    }
   ],
   "source": [
    "reverse2(\"flipped class room is important\")\n"
   ]
  },
  {
   "cell_type": "markdown",
   "metadata": {},
   "source": [
    "# 2"
   ]
  },
  {
   "cell_type": "code",
   "execution_count": 5,
   "metadata": {},
   "outputs": [],
   "source": [
    "def demogan(num):\n",
    "    num_list = list(range(1,num+1))\n",
    "    all_set = set(num_list)\n",
    "    list_3 =[x for x in num_list if x%3==0]\n",
    "    x3_set = set(list_3)\n",
    "    list_5 =[x for x in num_list if x%5==0] \n",
    "    x5_set= set(list_5)\n",
    "    list_15 = [x for x in num_list if x%15==0] \n",
    "    x15_set = set(list_15)\n",
    "    temp_set = all_set - x3_set\n",
    "    temp_set = temp_set - x5_set \n",
    "    temp_set = temp_set | x15_set\n",
    "    return len(list(temp_set))"
   ]
  },
  {
   "cell_type": "code",
   "execution_count": 6,
   "metadata": {},
   "outputs": [
    {
     "data": {
      "text/plain": [
       "9"
      ]
     },
     "execution_count": 6,
     "metadata": {},
     "output_type": "execute_result"
    }
   ],
   "source": [
    "demogan(15)"
   ]
  },
  {
   "cell_type": "markdown",
   "metadata": {},
   "source": [
    "# 3 \n",
    "房間裡有三個袋子，一個只裝鉛筆，⼀個只裝原子筆，第三個有鉛筆也有原子筆，袋⼦子是不透明的，單從\n",
    "袋⼦的外表上看不出任何差異，你不知道哪一個袋子裝了什麼。除了袋子上各貼了了⼀個標示 (\" 鉛筆 \" 、 \" 原子\n",
    "筆 \" 、 \" 混和 \") ，⽽而且標⽰都是錯的 (ex.  標有鉛筆的袋子一定不是只裝鉛筆 ) 。\n",
    "你只能選一個袋子，然後拿出裡⾯面⼀支筆看是鉛筆還是原子筆，然後你要推論出這三個袋子分別的情況。請\n",
    "列出您的作法，以及解釋為什麼這樣可以找到答案。"
   ]
  },
  {
   "cell_type": "markdown",
   "metadata": {},
   "source": [
    "假設A為只裝鉛筆的袋子，假設B為只裝原子筆的袋子，假設C為混裝的袋子\n",
    "1. 如果拿到貼著鉛筆的袋子，並且抽出一枝鉛筆，則我可以判定此袋子為A或C\n",
    "並且我可以知道剩下來的兩個袋子中，貼著原子筆的袋子真的是只裝原子筆的機率大幅提升了。\n",
    "2. 如果此袋子為A，則剩下來的袋子當中，只需要再抽到1鉛筆，則就能分辨誰是C，剩下的那個就是B。\n",
    "3. 如果此袋子為C，則剩下來的袋子當中，只需要再抽到1鉛筆，則就能分辨誰是A，剩下的那個就是B。\n",
    "\n",
    "### 第一次抽出來的是原子筆的話，同理可得"
   ]
  },
  {
   "cell_type": "markdown",
   "metadata": {},
   "source": [
    "# 4\n",
    "有三人一起到迪⼠士尼遊玩，中午肚⼦子餓了了，去餐廳點了了一份現在最夯的冰雪奇緣雙⼈人組，要價  900  元，\n",
    "付錢後，服務⽣生發現今天套餐⼤大特價，只要  750  元，因此服務⽣生應該退還  150  元給這三個⼈人，但是這位服務\n",
    "⽣生一時⿁鬼迷⼼心翹，決定按扛  60  元，只退了了  90  元給這三個遊客。\n",
    "那麼：   三⼈人各出  300  元  -  服務⽣生還給他們一⼈人  30  元  =  三⼈人各出  270  元  270 元  × 3 ⼈人  +  服務⽣生私吞的  60  元\n",
    "= 810 + 60 = 870 !?  怎麼不是  900  元呢？還有  30 元去哪了了呢？   請⽤用敘述的⽅方式，儘量量清楚解釋問題出在哪\n",
    "裡。"
   ]
  },
  {
   "cell_type": "markdown",
   "metadata": {},
   "source": [
    "# 服務生找回去的錢本來就不能混在一起算！\n",
    "## 假設三位客人分別叫做A、B、C。今天結果來說，服務生D退給他們90元，所以他們事實上只買了810元的套餐，810元中含有750元(A:270,B:270,C:270)的真實價錢和服務生暗扛的60元(D:60)。\n",
    "## 至於30元去哪裡了？這個問題本身就問錯了，因為服務生找回去給客人的90元根本不算是任何人的支出或是收入，所以總共就只有810元需要計算。所以總和是900元這件事就是假議題XD"
   ]
  },
  {
   "cell_type": "code",
   "execution_count": null,
   "metadata": {},
   "outputs": [],
   "source": []
  }
 ],
 "metadata": {
  "kernelspec": {
   "display_name": "Python 3",
   "language": "python",
   "name": "python3"
  },
  "language_info": {
   "codemirror_mode": {
    "name": "ipython",
    "version": 3
   },
   "file_extension": ".py",
   "mimetype": "text/x-python",
   "name": "python",
   "nbconvert_exporter": "python",
   "pygments_lexer": "ipython3",
   "version": "3.7.3"
  }
 },
 "nbformat": 4,
 "nbformat_minor": 2
}
